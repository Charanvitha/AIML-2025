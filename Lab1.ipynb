{
  "nbformat": 4,
  "nbformat_minor": 0,
  "metadata": {
    "colab": {
      "provenance": [],
      "authorship_tag": "ABX9TyM0LEA2pzmGJuWdkKufmSoD",
      "include_colab_link": true
    },
    "kernelspec": {
      "name": "python3",
      "display_name": "Python 3"
    },
    "language_info": {
      "name": "python"
    }
  },
  "cells": [
    {
      "cell_type": "markdown",
      "metadata": {
        "id": "view-in-github",
        "colab_type": "text"
      },
      "source": [
        "<a href=\"https://colab.research.google.com/github/Charanvitha/AIML-2025/blob/main/Lab1.ipynb\" target=\"_parent\"><img src=\"https://colab.research.google.com/assets/colab-badge.svg\" alt=\"Open In Colab\"/></a>"
      ]
    },
    {
      "cell_type": "code",
      "execution_count": null,
      "metadata": {
        "id": "9AT_uA7kkj6W"
      },
      "outputs": [],
      "source": []
    },
    {
      "cell_type": "markdown",
      "source": [
        "Lab-01:Introduction to Python,matplotlib,Numpy\n"
      ],
      "metadata": {
        "id": "lpARftlzl6kl"
      }
    },
    {
      "cell_type": "markdown",
      "source": [
        "## Part 1:Implement basic data structure using Numpy,Pandas##"
      ],
      "metadata": {
        "id": "uQR_TpjrmdGq"
      }
    },
    {
      "cell_type": "code",
      "source": [
        "import numpy as np\n",
        "import matplotlib.pyplot as plt\n",
        "import pandas as pd\n"
      ],
      "metadata": {
        "id": "d-jTg9lHm1Rg"
      },
      "execution_count": 1,
      "outputs": []
    },
    {
      "cell_type": "code",
      "source": [
        "list1=[1,2,3,4]\n",
        "array1=np.array(list1)\n",
        "array1\n",
        "array2=np.array([1,2,3,4])\n",
        "list1,array1,array2"
      ],
      "metadata": {
        "colab": {
          "base_uri": "https://localhost:8080/"
        },
        "id": "VnlxEpfZnSkv",
        "outputId": "0c05cd1c-e5ff-4575-cb87-0270cf55fb18"
      },
      "execution_count": 2,
      "outputs": [
        {
          "output_type": "execute_result",
          "data": {
            "text/plain": [
              "([1, 2, 3, 4], array([1, 2, 3, 4]), array([1, 2, 3, 4]))"
            ]
          },
          "metadata": {},
          "execution_count": 2
        }
      ]
    },
    {
      "cell_type": "code",
      "source": [
        "##Identify the type of Data Structure\n",
        "type(list1),type(array1),type(array2)"
      ],
      "metadata": {
        "colab": {
          "base_uri": "https://localhost:8080/"
        },
        "id": "Tuvm6E2Hn-Xc",
        "outputId": "d2020624-bde3-4130-a9b2-ec75ad3bef2b"
      },
      "execution_count": 3,
      "outputs": [
        {
          "output_type": "execute_result",
          "data": {
            "text/plain": [
              "(list, numpy.ndarray, numpy.ndarray)"
            ]
          },
          "metadata": {},
          "execution_count": 3
        }
      ]
    },
    {
      "cell_type": "code",
      "source": [
        "##Perform mathematical operations on arrays,lists\n",
        "print(\"Adding two arrays:array1+array2\")\n",
        "print(\"Multiplying two arrays:array1*array2\")\n",
        "print(\"Subtracting two arrays:array1-array2\")\n",
        "print(\"Dividing two arrays:array1/array2\")\n",
        "print(\"Exponentiating two arrays:array1**array2\")\n",
        "print(\"Multiply array to list:array2*list1\")\n",
        "\n"
      ],
      "metadata": {
        "colab": {
          "base_uri": "https://localhost:8080/"
        },
        "id": "XGVjDEpDo16e",
        "outputId": "c18f1c91-9697-410b-bf45-32522f60edaa"
      },
      "execution_count": 4,
      "outputs": [
        {
          "output_type": "stream",
          "name": "stdout",
          "text": [
            "Adding two arrays:array1+array2\n",
            "Multiplying two arrays:array1*array2\n",
            "Subtracting two arrays:array1-array2\n",
            "Dividing two arrays:array1/array2\n",
            "Exponentiating two arrays:array1**array2\n",
            "Multiply array to list:array2*list1\n"
          ]
        }
      ]
    },
    {
      "cell_type": "code",
      "source": [
        "#combine text wit nummpy function\n",
        "print(\"Sine value of array1:{np.sin(array1)}\")\n",
        "print(\"Log value of array1:{np.log(array1)}\")\n",
        "print(\"Log base 2 value of array1:{np.log2(array1)}\")\n",
        "print(\"Log base 10 value of array1:{np.log10(array1)}\")\n",
        "print(\"Exponential value of array1:{np.exp(array1)}\")"
      ],
      "metadata": {
        "colab": {
          "base_uri": "https://localhost:8080/"
        },
        "id": "BI6klORJrpnJ",
        "outputId": "34b3a9d3-ee3c-4466-f314-f2a3beac31f4"
      },
      "execution_count": 5,
      "outputs": [
        {
          "output_type": "stream",
          "name": "stdout",
          "text": [
            "Sine value of array1:{np.sin(array1)}\n",
            "Log value of array1:{np.log(array1)}\n",
            "Log base 2 value of array1:{np.log2(array1)}\n",
            "Log base 10 value of array1:{np.log10(array1)}\n",
            "Exponential value of array1:{np.exp(array1)}\n"
          ]
        }
      ]
    }
  ]
}